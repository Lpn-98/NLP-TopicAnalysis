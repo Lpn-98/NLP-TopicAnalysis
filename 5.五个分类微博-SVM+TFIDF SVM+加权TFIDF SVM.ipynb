{
 "cells": [
  {
   "cell_type": "code",
   "execution_count": 30,
   "metadata": {},
   "outputs": [],
   "source": [
    "import scipy\n",
    "from sklearn import svm\n",
    "from sklearn import metrics\n",
    "import gensim\n",
    "from gensim import models\n",
    "from gensim.models import CoherenceModel\n",
    "import numpy as np\n",
    "import pandas as pd\n",
    "import sklearn\n",
    "from sklearn.model_selection import train_test_split\n",
    "from sklearn.feature_extraction.text import CountVectorizer, TfidfTransformer,\\\n",
    "                                                TfidfVectorizer\n",
    "\n",
    "def train_predict_evaluate_model(classifier, train_features, train_labels,\n",
    "                                 test_features, test_labels):\n",
    "    \"\"\"\n",
    "    训练、预测、评估 模型\n",
    "    :param classifier: 模型\n",
    "    :param train_features: 训练集特征\n",
    "    :param train_labels: 训练集label\n",
    "    :param test_features: 测试集特征\n",
    "    :param test_labels: 测试集label\n",
    "    :return: 预测结果\n",
    "    \"\"\"\n",
    "    classifier.fit(train_features, train_labels)\n",
    "    predictions = classifier.predict(test_features)\n",
    "    get_metrics(true_labels=test_labels, predicted_labels=predictions)\n",
    "    return predictions\n",
    "\n",
    "def get_metrics(true_labels, predicted_labels):\n",
    "    \"\"\"\n",
    "    分别计算预测结果的准确率、精确率、召回率、F1值，直接打印出这些结果\n",
    "    :param true_labels: 真实label\n",
    "    :param predicted_labels: 预测结果\n",
    "    :return:\n",
    "    \"\"\"\n",
    "    print(\"accuracy:\", np.round(metrics.accuracy_score(true_labels,\n",
    "                                                       predicted_labels), 5))\n",
    "    print(\"precision:\", np.round(metrics.precision_score(\n",
    "        true_labels, predicted_labels, average='weighted'), 5))\n",
    "    print(\"recall:\", np.round(metrics.recall_score(\n",
    "        true_labels, predicted_labels, average='weighted'), 5))\n",
    "    print(\"f1 score:\", np.round(metrics.f1_score(\n",
    "        true_labels, predicted_labels, average='weighted'), 5))\n",
    "\n",
    "def sparse2dense(corpus):\n",
    "    data = []\n",
    "    rows = []\n",
    "    cols = []\n",
    "    line_count = 0\n",
    "    for line in corpus:  # lsi_corpus_total 是之前由gensim生成的lsi向量\n",
    "        for elem in line:\n",
    "            rows.append(line_count)\n",
    "            cols.append(elem[0])\n",
    "            data.append(elem[1])\n",
    "        line_count += 1\n",
    "    lsi_sparse_matrix = scipy.sparse.csr_matrix((data,(rows,cols))) # 稀疏向量\n",
    "    corpus2matrix = lsi_sparse_matrix.toarray()  # 密集向量\n",
    "    return corpus2matrix"
   ]
  },
  {
   "cell_type": "code",
   "execution_count": 4,
   "metadata": {},
   "outputs": [
    {
     "data": {
      "text/html": [
       "<div>\n",
       "<style scoped>\n",
       "    .dataframe tbody tr th:only-of-type {\n",
       "        vertical-align: middle;\n",
       "    }\n",
       "\n",
       "    .dataframe tbody tr th {\n",
       "        vertical-align: top;\n",
       "    }\n",
       "\n",
       "    .dataframe thead th {\n",
       "        text-align: right;\n",
       "    }\n",
       "</style>\n",
       "<table border=\"1\" class=\"dataframe\">\n",
       "  <thead>\n",
       "    <tr style=\"text-align: right;\">\n",
       "      <th></th>\n",
       "      <th>微博正文</th>\n",
       "      <th>标题</th>\n",
       "      <th>分类</th>\n",
       "      <th>微博正文(无标题切词后)</th>\n",
       "      <th>标题(切词后)</th>\n",
       "      <th>微博正文(有标题切词后)</th>\n",
       "    </tr>\n",
       "  </thead>\n",
       "  <tbody>\n",
       "    <tr>\n",
       "      <th>0</th>\n",
       "      <td>春分已过，清明将至。农谚讲，清明前后，种瓜点豆。当前全国由南向北全面进入春耕生产大忙季节。...</td>\n",
       "      <td>【农业农村部：当前春耕备耕热潮掀起进展顺利】</td>\n",
       "      <td>1</td>\n",
       "      <td>春分 已过 清明 农谚 清明 种瓜 点豆 当前 全国 由南向北 全面 春耕生产 大忙 季节 ...</td>\n",
       "      <td>农业 农村 农村部 当前 春耕 备耕 热潮 掀起 进展 顺利</td>\n",
       "      <td>农业 农村 农村部 当前 春耕 备耕 热潮 掀起 进展 顺利 春分 已过 清明 农谚 清明 ...</td>\n",
       "    </tr>\n",
       "    <tr>\n",
       "      <th>1</th>\n",
       "      <td>大学生村官制度是我国向农村输血的重要途径。半月谈记者在河北、山东、陕西等地调研发现，各地围绕...</td>\n",
       "      <td>【大学生村官的困惑：困在农村 还是奋斗在农村?】</td>\n",
       "      <td>1</td>\n",
       "      <td>大学生 村官 制度 农村 输血 重要途径 半月谈 记者 河北 山东 陕西 调研 各地 围绕 ...</td>\n",
       "      <td>大学 大学生 学生 村官 困惑 农村 奋斗 农村</td>\n",
       "      <td>大学 大学生 学生 村官 困惑 农村 奋斗 农村 大学生 村官 制度 农村 输血 重要途径 ...</td>\n",
       "    </tr>\n",
       "    <tr>\n",
       "      <th>2</th>\n",
       "      <td>从昔日深山的羊肠小道变身今天网友盛赞的“最美赛道”，广西马山县古零镇古零村弄拉屯一条不到4公...</td>\n",
       "      <td>【一个山旮旯的振兴“路”】</td>\n",
       "      <td>1</td>\n",
       "      <td>昔日 深山 羊肠小道 网友 盛赞 最美 赛道 广西 马山县 古镇 古村 屯条 不到 公里 公...</td>\n",
       "      <td>旮旯 振兴</td>\n",
       "      <td>旮旯 振兴 昔日 深山 羊肠小道 网友 盛赞 最美 赛道 广西 马山县 古镇 古村 屯条 不...</td>\n",
       "    </tr>\n",
       "    <tr>\n",
       "      <th>3</th>\n",
       "      <td>今年82岁的盖钧镒还时常卷起裤腿下到田间地头。身为中国工程院院士、大豆遗传育种学家，他更是将...</td>\n",
       "      <td>#中国种业十大杰出人物#【盖钧镒：一生为了“豆满仓”】</td>\n",
       "      <td>1</td>\n",
       "      <td>今年 盖钧 时常 卷起 裤腿 田间 地头 身为 中国工程院 院士 大豆 遗传 育种学 更是 ...</td>\n",
       "      <td>中国 种业 十大 杰出 杰出人物 人物 生为 满仓</td>\n",
       "      <td>中国 种业 十大 杰出 杰出人物 人物 生为 满仓 今年 盖钧 时常 卷起 裤腿 田间 地头...</td>\n",
       "    </tr>\n",
       "    <tr>\n",
       "      <th>4</th>\n",
       "      <td>又是一年春播时,广大农民和各级农业部门又开始了繁忙的春耕备耕工作。在乡村振兴政策的引导下,今...</td>\n",
       "      <td>【今年春耕有啥新特点】</td>\n",
       "      <td>1</td>\n",
       "      <td>春播 广大 农民 各级 农业部门 繁忙 春耕 备耕 工作 乡村 振兴 政策 引导 今年 春耕...</td>\n",
       "      <td>今年 春耕 新特 特点</td>\n",
       "      <td>今年 春耕 新特 特点 春播 广大 农民 各级 农业部门 繁忙 春耕 备耕 工作 乡村 振兴...</td>\n",
       "    </tr>\n",
       "  </tbody>\n",
       "</table>\n",
       "</div>"
      ],
      "text/plain": [
       "                                                微博正文  \\\n",
       "0   春分已过，清明将至。农谚讲，清明前后，种瓜点豆。当前全国由南向北全面进入春耕生产大忙季节。...   \n",
       "1  大学生村官制度是我国向农村输血的重要途径。半月谈记者在河北、山东、陕西等地调研发现，各地围绕...   \n",
       "2  从昔日深山的羊肠小道变身今天网友盛赞的“最美赛道”，广西马山县古零镇古零村弄拉屯一条不到4公...   \n",
       "3  今年82岁的盖钧镒还时常卷起裤腿下到田间地头。身为中国工程院院士、大豆遗传育种学家，他更是将...   \n",
       "4  又是一年春播时,广大农民和各级农业部门又开始了繁忙的春耕备耕工作。在乡村振兴政策的引导下,今...   \n",
       "\n",
       "                            标题  分类  \\\n",
       "0       【农业农村部：当前春耕备耕热潮掀起进展顺利】   1   \n",
       "1     【大学生村官的困惑：困在农村 还是奋斗在农村?】   1   \n",
       "2                【一个山旮旯的振兴“路”】   1   \n",
       "3  #中国种业十大杰出人物#【盖钧镒：一生为了“豆满仓”】   1   \n",
       "4                  【今年春耕有啥新特点】   1   \n",
       "\n",
       "                                        微博正文(无标题切词后)  \\\n",
       "0  春分 已过 清明 农谚 清明 种瓜 点豆 当前 全国 由南向北 全面 春耕生产 大忙 季节 ...   \n",
       "1  大学生 村官 制度 农村 输血 重要途径 半月谈 记者 河北 山东 陕西 调研 各地 围绕 ...   \n",
       "2  昔日 深山 羊肠小道 网友 盛赞 最美 赛道 广西 马山县 古镇 古村 屯条 不到 公里 公...   \n",
       "3  今年 盖钧 时常 卷起 裤腿 田间 地头 身为 中国工程院 院士 大豆 遗传 育种学 更是 ...   \n",
       "4  春播 广大 农民 各级 农业部门 繁忙 春耕 备耕 工作 乡村 振兴 政策 引导 今年 春耕...   \n",
       "\n",
       "                          标题(切词后)  \\\n",
       "0  农业 农村 农村部 当前 春耕 备耕 热潮 掀起 进展 顺利   \n",
       "1        大学 大学生 学生 村官 困惑 农村 奋斗 农村   \n",
       "2                           旮旯 振兴   \n",
       "3       中国 种业 十大 杰出 杰出人物 人物 生为 满仓   \n",
       "4                     今年 春耕 新特 特点   \n",
       "\n",
       "                                        微博正文(有标题切词后)  \n",
       "0  农业 农村 农村部 当前 春耕 备耕 热潮 掀起 进展 顺利 春分 已过 清明 农谚 清明 ...  \n",
       "1  大学 大学生 学生 村官 困惑 农村 奋斗 农村 大学生 村官 制度 农村 输血 重要途径 ...  \n",
       "2  旮旯 振兴 昔日 深山 羊肠小道 网友 盛赞 最美 赛道 广西 马山县 古镇 古村 屯条 不...  \n",
       "3  中国 种业 十大 杰出 杰出人物 人物 生为 满仓 今年 盖钧 时常 卷起 裤腿 田间 地头...  \n",
       "4  今年 春耕 新特 特点 春播 广大 农民 各级 农业部门 繁忙 春耕 备耕 工作 乡村 振兴...  "
      ]
     },
     "execution_count": 4,
     "metadata": {},
     "output_type": "execute_result"
    }
   ],
   "source": [
    "import numpy as np\n",
    "import pandas as pd\n",
    "\n",
    "text=pd.read_csv(\"./test_news_with_title_2.csv\")\n",
    "drop_na=[]\n",
    "for i in range(text.shape[0]):\n",
    "    if pd.isnull(text.loc[i]).any():\n",
    "        drop_na.append(i)\n",
    "\n",
    "text=text.drop(drop_na)\n",
    "text=text.reset_index(drop=True)\n",
    "\n",
    "text.head()"
   ]
  },
  {
   "cell_type": "code",
   "execution_count": 7,
   "metadata": {},
   "outputs": [
    {
     "name": "stdout",
     "output_type": "stream",
     "text": [
      "1012\n",
      "微博正文            6日，香港中学文凭考试举行，有考生疑太紧张在考试中连放了2个小时屁，坐在放屁考生后座的同学发...\n",
      "标题                      #高考加油#【香港#考生考试连放2小时屁# ，后座：大脑一片空白，考试严重受影响】\n",
      "分类                                                              2\n",
      "微博正文(无标题切词后)    香港 中学 文凭 考试 举行 考生 太紧张 考试 中连放 小时 坐在 放屁 考生 后座 同学...\n",
      "标题(切词后)                 高考 加油 香港 考生 考试 连放 小时 后座 大脑 脑片 空白 考试 严重 影响\n",
      "微博正文(有标题切词后)    高考 加油 香港 考生 考试 连放 小时 后座 大脑 脑片 空白 考试 严重 影响 香港 中...\n",
      "Name: 1012, dtype: object\n",
      "1198\n",
      "微博正文            广东深圳，香港中文大学深圳校区的大四学生吕懿惟，曾因食堂不合胃口，在大一时开网店卖简餐，获得...\n",
      "标题                        【超厉害的小姐姐！食堂不合胃口，#女学霸卖简餐获创业奖#：博士毕业后还想创业】\n",
      "分类                                                              2\n",
      "微博正文(无标题切词后)    广东 深圳 香港中文大学 深圳 校区 大学生 吕懿 食堂 合胃口 大开 网店 简餐 获得 学...\n",
      "标题(切词后)                     厉害 小姐 小姐姐 姐姐 食堂 不合 合胃口 胃口 创业 博士 毕业 创业\n",
      "微博正文(有标题切词后)    厉害 小姐 小姐姐 姐姐 食堂 不合 合胃口 胃口 创业 博士 毕业 创业 广东 深圳 香港...\n",
      "Name: 1198, dtype: object\n",
      "1214\n",
      "微博正文            《经济学人》杂志根据全球各大城市生活成本，发布2019年全球“最贵”十大城市榜单，新加坡、香...\n",
      "标题              #美好，就在身边# 【经济学人发布2019#全球生活成本最贵城市排名#，香港首登榜首，三城并...\n",
      "分类                                                              2\n",
      "微博正文(无标题切词后)    经济学 杂志 全球 大城市 生活 成本 全球 十大 榜单 新加坡 香港 巴黎城 并列 香港 ...\n",
      "标题(切词后)                美好 身边 经济 经济学 济学 学人 全球 生活 成本 最贵 排名 香港 榜首 并列\n",
      "微博正文(有标题切词后)    美好 身边 经济 经济学 济学 学人 全球 生活 成本 最贵 排名 香港 榜首 并列 经济学...\n",
      "Name: 1214, dtype: object\n",
      "1336\n",
      "微博正文            本周教育圈发生了什么？政府工作报告中教育内容引关注；教育部部长陈宝生：教育质量是被尊敬出来的...\n",
      "标题                                             #教育有料#【本周教育圈发生了什么】\n",
      "分类                                                              2\n",
      "微博正文(无标题切词后)    本周 教育 政府 工作 报告 教育 内容 关注 教育部 部长 陈宝生 教育 质量 尊敬 北京...\n",
      "标题(切词后)                                               教育 有料 本周 教育\n",
      "微博正文(有标题切词后)    教育 有料 本周 教育 本周 教育 政府 工作 报告 教育 内容 关注 教育部 部长 陈宝生...\n",
      "Name: 1336, dtype: object\n",
      "1987\n",
      "微博正文            香港的家庭主妇Paige有两个儿子，她每天6点半左右起床，为2个儿子准备营养丰富的花式早餐，...\n",
      "标题                     【文艺#老妈狂做2年Ins风营养早餐#，儿子拒绝夸赞只想快点吃光，网友：直男好气哦】\n",
      "分类                                                              2\n",
      "微博正文(无标题切词后)    香港 家庭主妇 两个 儿子 每天 半左右 起床 儿子 准备 营养 丰富 花式 早餐 营养 颜...\n",
      "标题(切词后)                          文艺 老妈 营养 早餐 儿子 拒绝 夸赞 快点 吃光 网友 好气\n",
      "微博正文(有标题切词后)    文艺 老妈 营养 早餐 儿子 拒绝 夸赞 快点 吃光 网友 好气 香港 家庭主妇 两个 儿子...\n",
      "Name: 1987, dtype: object\n",
      "2276\n",
      "微博正文            据香港特区政府新闻网30日报道，国际货币基金组织（IMF）30日公布评估报告，再次肯定香港作...\n",
      "标题                                         【港府：#IMF肯定香港国际金融中心地位#】\n",
      "分类                                                              3\n",
      "微博正文(无标题切词后)    香港特区政府 新闻网 国际货币基金组织 公布 评估 报告 肯定 香港 全球 金融中心 区内 ...\n",
      "标题(切词后)                         港府 肯定 香港 国际 国际金融 金融 金融中心 中心 心地 地位\n",
      "微博正文(有标题切词后)    港府 肯定 香港 国际 国际金融 金融 金融中心 中心 心地 地位 香港特区政府 新闻网 国...\n",
      "Name: 2276, dtype: object\n",
      "2645\n",
      "微博正文            王建宙坦言，遗憾的事有两个，一个是中国移动没有成功在A股上市；二是中国移动没有做更多的国际并...\n",
      "标题                                     【中国移动原董事长王建宙：遗憾中国移动没在A股上市】\n",
      "分类                                                              3\n",
      "微博正文(无标题切词后)    王建宙 坦言 遗憾 两个 中国移动 成功 上市 中国移动 国际 并购 当时 选择 美国 中国...\n",
      "标题(切词后)                    中国 中国移动 移动 董事 董事长 王建宙 遗憾 中国 中国移动 移动 上市\n",
      "微博正文(有标题切词后)    中国 中国移动 移动 董事 董事长 王建宙 遗憾 中国 中国移动 移动 上市 王建宙 坦言 ...\n",
      "Name: 2645, dtype: object\n",
      "2895\n",
      "微博正文            香港电视广播有限公司（TVB）集团行政总裁李宝安16日发内部信称，由于需要重组部分业务流程以...\n",
      "标题                                            【#TVB将裁员350人#，重组业务】\n",
      "分类                                                              3\n",
      "微博正文(无标题切词后)    香港电视广播有限公司 集团 行政 总裁 宝安 内部 信称 需要 重组 业务流程 增加 成本 ...\n",
      "标题(切词后)                                                  裁员 重组 业务\n",
      "微博正文(有标题切词后)    裁员 重组 业务 香港电视广播有限公司 集团 行政 总裁 宝安 内部 信称 需要 重组 业务...\n",
      "Name: 2895, dtype: object\n",
      "3097\n",
      "微博正文            炫目的灯光，劲爆的音乐，2019年保诚国际自行车赛将香港自行车馆打造成一个派对舞台，在香港推...\n",
      "标题                                   【自行车馆变身派对舞台——保诚国际赛在港推广自行车运动】\n",
      "分类                                                              4\n",
      "微博正文(无标题切词后)    炫目 灯光 音乐 保诚 国际 自行车赛 香港 自行车 造成 派对 舞台 香港 推广 自行车 ...\n",
      "标题(切词后)                  自行 自行车 行车 变身 派对 舞台 国际 推广 自行 自行车 行车 车运 运动\n",
      "微博正文(有标题切词后)    自行 自行车 行车 变身 派对 舞台 国际 推广 自行 自行车 行车 车运 运动 炫目 灯光...\n",
      "Name: 3097, dtype: object\n",
      "3169\n",
      "微博正文            安踏体育用品有限公司26日在香港召开发布会公布2018年全年业绩报告，宣布公司在2018年收...\n",
      "标题                                                   【安踏发布历史最佳年报】\n",
      "分类                                                              4\n",
      "微博正文(无标题切词后)    安踏 体育用品 有限公司 香港 召开 发布会 公布 业绩 报告 宣布 收益 亿元 同比 增长...\n",
      "标题(切词后)                                               安踏 历史 最佳 年报\n",
      "微博正文(有标题切词后)    安踏 历史 最佳 年报 安踏 体育用品 有限公司 香港 召开 发布会 公布 业绩 报告 宣布...\n",
      "Name: 3169, dtype: object\n",
      "3295\n",
      "微博正文            2019年渣打香港马拉松赛17日落幕，肯尼亚选手巴·基普图姆打破赛会纪录，夺得男子组冠军。女...\n",
      "标题                                     【渣打香港马拉松赛肯尼亚选手基普图姆破赛会纪录夺冠】\n",
      "分类                                                              4\n",
      "微博正文(无标题切词后)    渣打 香港 马拉松赛 落幕 肯尼亚 选手 基普 图姆 打破 赛会 纪录 夺得 男子组 冠军 ...\n",
      "标题(切词后)                渣打 香港 马拉 马拉松 马拉松赛 肯尼 肯尼亚 尼亚 选手 基普 赛会 纪录 夺冠\n",
      "微博正文(有标题切词后)    渣打 香港 马拉 马拉松 马拉松赛 肯尼 肯尼亚 尼亚 选手 基普 赛会 纪录 夺冠 渣打 ...\n",
      "Name: 3295, dtype: object\n",
      "3779\n",
      "微博正文            这个周末，记者在广州燕子岗体育场看了一场香港足球超级联赛，主场作战的RF富力6:0狂扫梦想F...\n",
      "标题                                                    【由一张A4纸想到的】\n",
      "分类                                                              4\n",
      "微博正文(无标题切词后)    周末 记者 广州 燕子 体育场 香港 足球 超级 联赛 主场 作战 富力 狂扫 梦想 登上 ...\n",
      "标题(切词后)                                                        想到\n",
      "微博正文(有标题切词后)    想到 周末 记者 广州 燕子 体育场 香港 足球 超级 联赛 主场 作战 富力 狂扫 梦想 ...\n",
      "Name: 3779, dtype: object\n",
      "3905\n",
      "微博正文            国际马联三星级场地障碍赛——中国马术巡回赛香港赛马会杯广州总决赛6日在广州黄村体育训练中心落...\n",
      "标题                                            【法国骑手登顶新年首场国际马联星级赛】\n",
      "分类                                                              4\n",
      "微博正文(无标题切词后)    国际 马联 星级 场地 障碍赛 中国 马术 巡回赛 香港 赛马会 广州 总决赛 广州 黄村 ...\n",
      "标题(切词后)                                      法国 骑手 登顶 新年 首场 国际 星级\n",
      "微博正文(有标题切词后)    法国 骑手 登顶 新年 首场 国际 星级 国际 马联 星级 场地 障碍赛 中国 马术 巡回赛...\n",
      "Name: 3905, dtype: object\n",
      "4371\n",
      "微博正文            2019年英国泰晤士高等教育亚洲大学排名2日揭晓，清华大学排名第一，这是中国大陆高校首次名列...\n",
      "标题                                     【2019年泰晤士亚洲大学排行榜出炉 清华首次登顶】\n",
      "分类                                                              5\n",
      "微博正文(无标题切词后)    英国 泰晤士 高等教育 亚洲 大学排名 揭晓 清华大学 排名 这是 中国 大陆 高校 首次 ...\n",
      "标题(切词后)                           泰晤士 亚洲 大学 排行 排行榜 出炉 清华 首次 次登 登顶\n",
      "微博正文(有标题切词后)    泰晤士 亚洲 大学 排行 排行榜 出炉 清华 首次 次登 登顶 英国 泰晤士 高等教育 亚洲...\n",
      "Name: 4371, dtype: object\n",
      "4729\n",
      "微博正文            英国经济学人智库18日发布的全球生活成本调查报告显示，法国首都巴黎、中国香港和新加坡首都新加...\n",
      "标题                                            【全球城市哪家“贵”？巴黎香港新加坡】\n",
      "分类                                                              5\n",
      "微博正文(无标题切词后)    英国 经济学 智库 全球 生活 成本 调查报告 显示 法国 首都 巴黎 中国香港 新加坡 首...\n",
      "标题(切词后)                                           全球 哪家 巴黎 香港 新加坡\n",
      "微博正文(有标题切词后)    全球 哪家 巴黎 香港 新加坡 英国 经济学 智库 全球 生活 成本 调查报告 显示 法国 ...\n",
      "Name: 4729, dtype: object\n"
     ]
    }
   ],
   "source": [
    "for i in range(text.shape[0]):\n",
    "    if \"香港\" in text[\"微博正文(有标题切词后)\"][i]:\n",
    "        print(i)\n",
    "        print(text.loc[i])"
   ]
  },
  {
   "cell_type": "code",
   "execution_count": 3,
   "metadata": {},
   "outputs": [
    {
     "data": {
      "text/plain": [
       "4983"
      ]
     },
     "execution_count": 3,
     "metadata": {},
     "output_type": "execute_result"
    }
   ],
   "source": [
    "text.shape[0]"
   ]
  },
  {
   "cell_type": "markdown",
   "metadata": {},
   "source": [
    "# 1.BOW+SVM"
   ]
  },
  {
   "cell_type": "code",
   "execution_count": 32,
   "metadata": {},
   "outputs": [
    {
     "name": "stderr",
     "output_type": "stream",
     "text": [
      "C:\\Users\\dell-pc\\Anaconda3\\lib\\site-packages\\sklearn\\svm\\base.py:196: FutureWarning: The default value of gamma will change from 'auto' to 'scale' in version 0.22 to account better for unscaled features. Set gamma explicitly to 'auto' or 'scale' to avoid this warning.\n",
      "  \"avoid this warning.\", FutureWarning)\n"
     ]
    },
    {
     "name": "stdout",
     "output_type": "stream",
     "text": [
      "accuracy: 0.65396\n",
      "precision: 0.82983\n",
      "recall: 0.65396\n",
      "f1 score: 0.6674\n"
     ]
    }
   ],
   "source": [
    "def bow_(processed_docs):\n",
    "    dictionary = gensim.corpora.Dictionary(processed_docs)\n",
    "    dictionary.filter_extremes(no_below=15, no_above=0.8, keep_n=100000)\n",
    "    bow_corpus = [dictionary.doc2bow(doc) for doc in processed_docs]\n",
    "    return bow_corpus\n",
    "\n",
    "text_splited=[i.split(\" \") for i in text[\"微博正文(有标题切词后)\"]]\n",
    "bow_corpus=bow_(text_splited)\n",
    "#print(bow_corpus)\n",
    "\n",
    "bow_matrix=sparse2dense(bow_corpus)\n",
    "#print(bow_matrix)\n",
    "\n",
    "train_matrix, test_matrix, y_train, y_test= train_test_split(bow_matrix, text[\"分类\"],random_state=2,test_size=0.2)\n",
    "\n",
    "clf = svm.SVC()\n",
    "clf.fit(train_matrix,y_train)\n",
    "predictions = clf.predict(test_matrix)\n",
    "get_metrics(true_labels=y_test, predicted_labels=predictions)"
   ]
  },
  {
   "cell_type": "markdown",
   "metadata": {},
   "source": [
    "# 2.TFIDF+SVM"
   ]
  },
  {
   "cell_type": "code",
   "execution_count": 33,
   "metadata": {},
   "outputs": [
    {
     "name": "stderr",
     "output_type": "stream",
     "text": [
      "C:\\Users\\dell-pc\\Anaconda3\\lib\\site-packages\\sklearn\\svm\\base.py:196: FutureWarning: The default value of gamma will change from 'auto' to 'scale' in version 0.22 to account better for unscaled features. Set gamma explicitly to 'auto' or 'scale' to avoid this warning.\n",
      "  \"avoid this warning.\", FutureWarning)\n"
     ]
    },
    {
     "name": "stdout",
     "output_type": "stream",
     "text": [
      "accuracy: 0.85256\n",
      "precision: 0.85891\n",
      "recall: 0.85256\n",
      "f1 score: 0.85381\n"
     ]
    }
   ],
   "source": [
    "def tfidf_(processed_docs):\n",
    "    dictionary = gensim.corpora.Dictionary(processed_docs)\n",
    "    dictionary.filter_extremes(no_below=15, no_above=0.8, keep_n=100000)\n",
    "    bow_corpus = [dictionary.doc2bow(doc) for doc in processed_docs]\n",
    "    tfidf = models.TfidfModel(bow_corpus,normalize=False)#-----------------这里改了，改成false\n",
    "    corpus_tfidf = tfidf[bow_corpus]\n",
    "    return corpus_tfidf\n",
    "\n",
    "text_splited=[i.split(\" \") for i in text[\"微博正文(有标题切词后)\"]]\n",
    "tfidf_corpus=tfidf_(text_splited)\n",
    "#print(tfidf_corpus)\n",
    "\n",
    "tfidf_matrix=sparse2dense(tfidf_corpus)\n",
    "#print(tfidf_matrix)\n",
    "\n",
    "train_matrix, test_matrix, y_train, y_test= train_test_split(tfidf_matrix, text[\"分类\"],random_state=2,test_size=0.2)\n",
    "\n",
    "clf = svm.SVC()\n",
    "clf.fit(train_matrix,y_train)\n",
    "predictions = clf.predict(test_matrix)\n",
    "get_metrics(true_labels=y_test, predicted_labels=predictions)"
   ]
  },
  {
   "cell_type": "markdown",
   "metadata": {},
   "source": [
    "# 3. W-TFIDF+SVM"
   ]
  },
  {
   "cell_type": "code",
   "execution_count": 34,
   "metadata": {},
   "outputs": [],
   "source": [
    "def tw_lda_get_tfidf(text,gamma):\n",
    "    #1.用正文+标题作为dictionary，过滤极端值\n",
    "    content_and_title=[i.split(\" \") for i in text[\"微博正文(有标题切词后)\"]]\n",
    "    dictionary = gensim.corpora.Dictionary(content_and_title)\n",
    "    dictionary.filter_extremes(no_below=15,no_above=0.8, keep_n=100000)\n",
    "    \n",
    "    #2.计算标题的tfidf\n",
    "    processed_docs_title=[i.split(\" \") for i in text[\"标题(切词后)\"]]\n",
    "    bow_corpus_title = [dictionary.doc2bow(doc) for doc in processed_docs_title]\n",
    "    tfidf_title = models.TfidfModel(bow_corpus_title,normalize=False)\n",
    "    corpus_tfidf_title = tfidf_title[bow_corpus_title]\n",
    "#     print(\"corpus_tfidf_title\",corpus_tfidf_title)\n",
    "    \n",
    "    #3.计算正文+标题的tfidf\n",
    "    processed_docs_content=[i.split(\" \") for i in text[\"微博正文(有标题切词后)\"]]\n",
    "    bow_corpus_content = [dictionary.doc2bow(doc) for doc in processed_docs_content]\n",
    "    tfidf_content = models.TfidfModel(bow_corpus_content,normalize=False)\n",
    "    corpus_tfidf_content = tfidf_content[bow_corpus_content]\n",
    "#     print(\"corpus_tfidf_content\",corpus_tfidf_content)\n",
    "    \n",
    "    #4.把标题和正文tfidf结合在一起\n",
    "    new_tfidf=[]\n",
    "    for i in range(len(corpus_tfidf_content)):#corpus_tfidf2[i]\n",
    "        dict_2={one:two for one,two in corpus_tfidf_content[i]}\n",
    "        dict_1={one:two for one,two in corpus_tfidf_title[i]}\n",
    "        for j in dict_1.keys():\n",
    "            if j in dict_2.keys():\n",
    "                dict_2[j]=(1-gamma)*dict_2[j]+gamma*dict_1[j]\n",
    "        new_tfidf_part=[(one,two) for one,two in sorted(dict_2.items(), key=lambda d: d[0],reverse=False)]\n",
    "#         print(\"new_tfidf_part\",new_tfidf_part)\n",
    "#        new_tfidf.append(new_tfidf_part)\n",
    "#        normed=gensim.models.tfidfmodel.smartirs_normalize(new_tfidf_part,\"c\") \n",
    "#        new_tfidf.append(normed)\n",
    "        new_tfidf.append(new_tfidf_part)\n",
    "    \n",
    "    #5.返回tfidf\n",
    "    return new_tfidf,dictionary"
   ]
  },
  {
   "cell_type": "code",
   "execution_count": 35,
   "metadata": {},
   "outputs": [],
   "source": [
    "def wtfidf_svm(text,gamma):\n",
    "    a,b=tw_lda_get_tfidf(text,gamma=gamma)\n",
    "\n",
    "    wtfidf_matrix=sparse2dense(a)\n",
    "    #print(bow_matrix)\n",
    "\n",
    "    train_matrix, test_matrix, y_train, y_test= train_test_split(wtfidf_matrix, text[\"分类\"],random_state=2,test_size=0.2)\n",
    "\n",
    "    clf = svm.SVC()\n",
    "    clf.fit(train_matrix,y_train)\n",
    "    \n",
    "    predictions = clf.predict(train_matrix)\n",
    "    get_metrics(true_labels=y_train, predicted_labels=predictions)\n",
    "    \n",
    "    print(\"++++++++++\")\n",
    "    \n",
    "    predictions = clf.predict(test_matrix)\n",
    "    get_metrics(true_labels=y_test, predicted_labels=predictions)"
   ]
  },
  {
   "cell_type": "code",
   "execution_count": 36,
   "metadata": {},
   "outputs": [
    {
     "name": "stdout",
     "output_type": "stream",
     "text": [
      "0.0\n"
     ]
    },
    {
     "name": "stderr",
     "output_type": "stream",
     "text": [
      "C:\\Users\\dell-pc\\Anaconda3\\lib\\site-packages\\sklearn\\svm\\base.py:196: FutureWarning: The default value of gamma will change from 'auto' to 'scale' in version 0.22 to account better for unscaled features. Set gamma explicitly to 'auto' or 'scale' to avoid this warning.\n",
      "  \"avoid this warning.\", FutureWarning)\n"
     ]
    },
    {
     "name": "stdout",
     "output_type": "stream",
     "text": [
      "accuracy: 0.9719\n",
      "precision: 0.97238\n",
      "recall: 0.9719\n",
      "f1 score: 0.97195\n",
      "++++++++++\n",
      "accuracy: 0.85256\n",
      "precision: 0.85891\n",
      "recall: 0.85256\n",
      "f1 score: 0.85381\n",
      "--------------\n",
      " \n",
      "0.1\n"
     ]
    },
    {
     "name": "stderr",
     "output_type": "stream",
     "text": [
      "C:\\Users\\dell-pc\\Anaconda3\\lib\\site-packages\\sklearn\\svm\\base.py:196: FutureWarning: The default value of gamma will change from 'auto' to 'scale' in version 0.22 to account better for unscaled features. Set gamma explicitly to 'auto' or 'scale' to avoid this warning.\n",
      "  \"avoid this warning.\", FutureWarning)\n"
     ]
    },
    {
     "name": "stdout",
     "output_type": "stream",
     "text": [
      "accuracy: 0.9714\n",
      "precision: 0.97185\n",
      "recall: 0.9714\n",
      "f1 score: 0.97144\n",
      "++++++++++\n",
      "accuracy: 0.85557\n",
      "precision: 0.86118\n",
      "recall: 0.85557\n",
      "f1 score: 0.85668\n",
      "--------------\n",
      " \n",
      "0.2\n"
     ]
    },
    {
     "name": "stderr",
     "output_type": "stream",
     "text": [
      "C:\\Users\\dell-pc\\Anaconda3\\lib\\site-packages\\sklearn\\svm\\base.py:196: FutureWarning: The default value of gamma will change from 'auto' to 'scale' in version 0.22 to account better for unscaled features. Set gamma explicitly to 'auto' or 'scale' to avoid this warning.\n",
      "  \"avoid this warning.\", FutureWarning)\n"
     ]
    },
    {
     "name": "stdout",
     "output_type": "stream",
     "text": [
      "accuracy: 0.9709\n",
      "precision: 0.97133\n",
      "recall: 0.9709\n",
      "f1 score: 0.97094\n",
      "++++++++++\n",
      "accuracy: 0.85356\n",
      "precision: 0.85887\n",
      "recall: 0.85356\n",
      "f1 score: 0.85464\n",
      "--------------\n",
      " \n",
      "0.3\n"
     ]
    },
    {
     "name": "stderr",
     "output_type": "stream",
     "text": [
      "C:\\Users\\dell-pc\\Anaconda3\\lib\\site-packages\\sklearn\\svm\\base.py:196: FutureWarning: The default value of gamma will change from 'auto' to 'scale' in version 0.22 to account better for unscaled features. Set gamma explicitly to 'auto' or 'scale' to avoid this warning.\n",
      "  \"avoid this warning.\", FutureWarning)\n"
     ]
    },
    {
     "name": "stdout",
     "output_type": "stream",
     "text": [
      "accuracy: 0.97065\n",
      "precision: 0.97114\n",
      "recall: 0.97065\n",
      "f1 score: 0.9707\n",
      "++++++++++\n",
      "accuracy: 0.85356\n",
      "precision: 0.85913\n",
      "recall: 0.85356\n",
      "f1 score: 0.85481\n",
      "--------------\n",
      " \n",
      "0.4\n"
     ]
    },
    {
     "name": "stderr",
     "output_type": "stream",
     "text": [
      "C:\\Users\\dell-pc\\Anaconda3\\lib\\site-packages\\sklearn\\svm\\base.py:196: FutureWarning: The default value of gamma will change from 'auto' to 'scale' in version 0.22 to account better for unscaled features. Set gamma explicitly to 'auto' or 'scale' to avoid this warning.\n",
      "  \"avoid this warning.\", FutureWarning)\n"
     ]
    },
    {
     "name": "stdout",
     "output_type": "stream",
     "text": [
      "accuracy: 0.9704\n",
      "precision: 0.97085\n",
      "recall: 0.9704\n",
      "f1 score: 0.97044\n",
      "++++++++++\n",
      "accuracy: 0.85456\n",
      "precision: 0.86079\n",
      "recall: 0.85456\n",
      "f1 score: 0.85589\n",
      "--------------\n",
      " \n",
      "0.5\n"
     ]
    },
    {
     "name": "stderr",
     "output_type": "stream",
     "text": [
      "C:\\Users\\dell-pc\\Anaconda3\\lib\\site-packages\\sklearn\\svm\\base.py:196: FutureWarning: The default value of gamma will change from 'auto' to 'scale' in version 0.22 to account better for unscaled features. Set gamma explicitly to 'auto' or 'scale' to avoid this warning.\n",
      "  \"avoid this warning.\", FutureWarning)\n"
     ]
    },
    {
     "name": "stdout",
     "output_type": "stream",
     "text": [
      "accuracy: 0.96939\n",
      "precision: 0.96989\n",
      "recall: 0.96939\n",
      "f1 score: 0.96945\n",
      "++++++++++\n",
      "accuracy: 0.85557\n",
      "precision: 0.86319\n",
      "recall: 0.85557\n",
      "f1 score: 0.85706\n",
      "--------------\n",
      " \n",
      "0.6\n"
     ]
    },
    {
     "name": "stderr",
     "output_type": "stream",
     "text": [
      "C:\\Users\\dell-pc\\Anaconda3\\lib\\site-packages\\sklearn\\svm\\base.py:196: FutureWarning: The default value of gamma will change from 'auto' to 'scale' in version 0.22 to account better for unscaled features. Set gamma explicitly to 'auto' or 'scale' to avoid this warning.\n",
      "  \"avoid this warning.\", FutureWarning)\n"
     ]
    },
    {
     "name": "stdout",
     "output_type": "stream",
     "text": [
      "accuracy: 0.96864\n",
      "precision: 0.9691\n",
      "recall: 0.96864\n",
      "f1 score: 0.96869\n",
      "++++++++++\n",
      "accuracy: 0.85858\n",
      "precision: 0.86559\n",
      "recall: 0.85858\n",
      "f1 score: 0.85994\n",
      "--------------\n",
      " \n",
      "0.7\n"
     ]
    },
    {
     "name": "stderr",
     "output_type": "stream",
     "text": [
      "C:\\Users\\dell-pc\\Anaconda3\\lib\\site-packages\\sklearn\\svm\\base.py:196: FutureWarning: The default value of gamma will change from 'auto' to 'scale' in version 0.22 to account better for unscaled features. Set gamma explicitly to 'auto' or 'scale' to avoid this warning.\n",
      "  \"avoid this warning.\", FutureWarning)\n"
     ]
    },
    {
     "name": "stdout",
     "output_type": "stream",
     "text": [
      "accuracy: 0.96713\n",
      "precision: 0.96767\n",
      "recall: 0.96713\n",
      "f1 score: 0.9672\n",
      "++++++++++\n",
      "accuracy: 0.85757\n",
      "precision: 0.86437\n",
      "recall: 0.85757\n",
      "f1 score: 0.85884\n",
      "--------------\n",
      " \n",
      "0.8\n"
     ]
    },
    {
     "name": "stderr",
     "output_type": "stream",
     "text": [
      "C:\\Users\\dell-pc\\Anaconda3\\lib\\site-packages\\sklearn\\svm\\base.py:196: FutureWarning: The default value of gamma will change from 'auto' to 'scale' in version 0.22 to account better for unscaled features. Set gamma explicitly to 'auto' or 'scale' to avoid this warning.\n",
      "  \"avoid this warning.\", FutureWarning)\n"
     ]
    },
    {
     "name": "stdout",
     "output_type": "stream",
     "text": [
      "accuracy: 0.96513\n",
      "precision: 0.96572\n",
      "recall: 0.96513\n",
      "f1 score: 0.96519\n",
      "++++++++++\n",
      "accuracy: 0.85557\n",
      "precision: 0.86325\n",
      "recall: 0.85557\n",
      "f1 score: 0.85705\n",
      "--------------\n",
      " \n",
      "0.9\n"
     ]
    },
    {
     "name": "stderr",
     "output_type": "stream",
     "text": [
      "C:\\Users\\dell-pc\\Anaconda3\\lib\\site-packages\\sklearn\\svm\\base.py:196: FutureWarning: The default value of gamma will change from 'auto' to 'scale' in version 0.22 to account better for unscaled features. Set gamma explicitly to 'auto' or 'scale' to avoid this warning.\n",
      "  \"avoid this warning.\", FutureWarning)\n"
     ]
    },
    {
     "name": "stdout",
     "output_type": "stream",
     "text": [
      "accuracy: 0.96237\n",
      "precision: 0.96306\n",
      "recall: 0.96237\n",
      "f1 score: 0.96247\n",
      "++++++++++\n",
      "accuracy: 0.84654\n",
      "precision: 0.85562\n",
      "recall: 0.84654\n",
      "f1 score: 0.84846\n",
      "--------------\n",
      " \n",
      "1.0\n"
     ]
    },
    {
     "name": "stderr",
     "output_type": "stream",
     "text": [
      "C:\\Users\\dell-pc\\Anaconda3\\lib\\site-packages\\sklearn\\svm\\base.py:196: FutureWarning: The default value of gamma will change from 'auto' to 'scale' in version 0.22 to account better for unscaled features. Set gamma explicitly to 'auto' or 'scale' to avoid this warning.\n",
      "  \"avoid this warning.\", FutureWarning)\n"
     ]
    },
    {
     "name": "stdout",
     "output_type": "stream",
     "text": [
      "accuracy: 0.96036\n",
      "precision: 0.9613\n",
      "recall: 0.96036\n",
      "f1 score: 0.9605\n",
      "++++++++++\n",
      "accuracy: 0.84152\n",
      "precision: 0.8511\n",
      "recall: 0.84152\n",
      "f1 score: 0.84365\n",
      "--------------\n",
      " \n"
     ]
    }
   ],
   "source": [
    "for ga in [0.0,0.1,0.2,0.3,0.4,0.5,0.6,0.7,0.8,0.9,1.0]:\n",
    "    print(ga)\n",
    "    wtfidf_svm(text,ga)\n",
    "    print(\"--------------\")\n",
    "    print(\" \")"
   ]
  },
  {
   "cell_type": "code",
   "execution_count": 37,
   "metadata": {},
   "outputs": [
    {
     "data": {
      "text/plain": [
       "<matplotlib.legend.Legend at 0x23617cdab70>"
      ]
     },
     "execution_count": 37,
     "metadata": {},
     "output_type": "execute_result"
    },
    {
     "data": {
      "image/png": "[encoded data removed]",
      "text/plain": [
       "<Figure size 800x500 with 1 Axes>"
      ]
     },
     "metadata": {
      "needs_background": "light"
     },
     "output_type": "display_data"
    }
   ],
   "source": [
    "import matplotlib.pyplot as plt\n",
    "from matplotlib import font_manager\n",
    "my_font = font_manager.FontProperties(fname='C:/Windows/Fonts/simfang.ttf')\n",
    "\n",
    "\n",
    "f1_wtfidf={0.0:0.85381,0.1:0.85668,0.2:0.85464,0.3:0.85481,0.4:0.85589,0.5:0.85706,0.6:0.85994,0.7:0.85884,0.8:0.85705,0.9:0.84846,1.0:0.84365}\n",
    "f1_wtfidf_values=[i for i in f1_wtfidf.values()]\n",
    "f1_wtfidf_keys=[i for i in f1_wtfidf.keys()]\n",
    "\n",
    "f1_bow=[0.6674 for i in range(len(f1_wtfidf_keys))]\n",
    "f1_tfidf=[0.7998 for i in range(len(f1_wtfidf_keys))]\n",
    "\n",
    "plt.figure(figsize=(8,5),dpi=100)\n",
    "plt.plot(f1_wtfidf_keys,f1_wtfidf_values,label=\"WTFIDF+SVM_F1_Score\",marker=\".\",linewidth=2)\n",
    "# plt.plot(f1_wtfidf_keys,f1_bow,label=\"BOW+SVM_F1_Score\",linewidth=2)\n",
    "# plt.plot(f1_wtfidf_keys,f1_tfidf,label=\"TFIDF+SVM_F1_Score\",linewidth=2)\n",
    "\n",
    "\n",
    "plt.ylim(0.8,0.9)\n",
    "plt.xlabel('Gamma', fontproperties=my_font)\n",
    "plt.ylabel('ModelF1Score', fontproperties=my_font)\n",
    "plt.legend(prop=my_font)"
   ]
  },
  {
   "cell_type": "code",
   "execution_count": null,
   "metadata": {},
   "outputs": [],
   "source": []
  }
 ],
 "metadata": {
  "kernelspec": {
   "display_name": "Python 3",
   "language": "python",
   "name": "python3"
  },
  "language_info": {
   "codemirror_mode": {
    "name": "ipython",
    "version": 3
   },
   "file_extension": ".py",
   "mimetype": "text/x-python",
   "name": "python",
   "nbconvert_exporter": "python",
   "pygments_lexer": "ipython3",
   "version": "3.7.3"
  }
 },
 "nbformat": 4,
 "nbformat_minor": 2
}
